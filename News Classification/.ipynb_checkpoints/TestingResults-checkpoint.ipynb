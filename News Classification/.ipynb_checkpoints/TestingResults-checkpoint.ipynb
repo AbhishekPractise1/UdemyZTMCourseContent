{
 "cells": [
  {
   "cell_type": "markdown",
   "id": "a8383b02-11ca-4dcf-a951-852e7ab89c8b",
   "metadata": {},
   "source": [
    "### Load all the models"
   ]
  },
  {
   "cell_type": "code",
   "execution_count": 4,
   "id": "0f729471-4079-41ef-bb78-c72c479769d2",
   "metadata": {},
   "outputs": [],
   "source": [
    "import spacy\n",
    "# Models trained on kaggle dataset (_kgl)\n",
    "department_kgl = spacy.load('archive/updated_Department_py/')\n",
    "industry_kgl = spacy.load('archive/updated_ind_py')\n",
    "key_kgl = spacy.load('archive/updated_Main_py')"
   ]
  },
  {
   "cell_type": "code",
   "execution_count": 5,
   "id": "cdc94502-4628-4e85-8960-14643a056522",
   "metadata": {},
   "outputs": [],
   "source": [
    "# 2nd approach Model (_2nd)\n",
    "department_2nd = spacy.load('archive/New Models/DepartmentNew/')\n",
    "industry_2nd = spacy.load('archive/New Models/IndustryNew/')\n",
    "key_2nd = spacy.load('archive/New Models/KeyEventsNew/')"
   ]
  },
  {
   "cell_type": "code",
   "execution_count": 6,
   "id": "8795a06f-eebd-4f2a-8258-391e88341eb9",
   "metadata": {},
   "outputs": [],
   "source": [
    "news_articles = [\n",
    "    \"A new petition filed in the top Court has alleged that the court-monitored committee to probe allegations of stock manipulation against the Adani Group in the Hindenburg report also has a conflict of\",\n",
    "    \"In case you are planning to be a gig worker, Sudhir Kaushik, CEO & Founder of Taxspanner.com, in a column in ET, explains the tax liability, exemptions and return filing for freelancers:\",\n",
    "    \"According to a recent study by the International Monetary Fund (IMF), corporate zombification is on the rise globally, leading to negative effects on healthy firms. In India, the focus on addressing\",\n",
    "    \"Business News Today: Read Latest Business news, India Business News Live, Share Market & Economy News | The Economic Times | 10 September, 2023, 12:45 PM IST | Today's Paper News Live! Markets Live! Live Stream! G20 Summit Bank FD rates Tax Calculator Stock Reports Plus Stock Screener Web Stories Videos The coming of age of Bharat, and a promise to the 'global south' G20 Summit: Third session underway UK PM announces $2 bn for GCF No arrest threat for Putin in Brazil G20 meet: Lula Three IPOs to hit Dalal Street this week ET MARKETS 10 quant-based value stocks from analysts 8 mid, smallcaps that can deliver 45% returns Sanjiv Bhasin's ready to put his money in 2 banks Asia Cup 2023: Ind vs Pak match to begin at 3 pm G20 Summit: India ready to lead the new digital age IRFC, Guj Gas to go ex-dividend, Power Grid ex-bonus Eurozone economy triggers stagflation concerns Indian Railways is tapping artificial intelligence to fix its trouble with drowsy drivers Parents can reclaim property if kids don't care: HC Will rain interrupt India Vs Pakistan match today? Apple September Event 2023: What to expect Goa's gobi manchurian problems Sherpa talks and ministerial meets: How India managed to get China & Russia nod on Delhi Declaration RIL shares blinking buy after daily chart breakout Does it make sense to add L&T & BHEL now? 5 factors for stock mkt investors to track this wk Is 33% margin new normal for Indian Hotels? India's answer to China's Belt and Road is a mega corridor with US, Saudi Arabia, UAE, Europe & Japan Look at gold to diversify: Sahil Kapoor G20: Leaders commit to reform WTO settlement Teenager Coco Gauff wins the US Open How India pulled off a surprising G20 declaration We've matched ambition with action in our presidency, Amitabh Kant decodes India's G20 moment The role of a Chief Technology Officer in digital landscape TDP chief Naidu produced in ACB Court G20: Vasudhaiva Kutumbakam in Delhi Declaration 'Nothing to be proud of': Ukraine on G20 declaration 15% in Delhi: How much home prices rose in your city Got torn or taped bank notes? How to exchange them Lost bank a/c due to re-KYC failure? How to reactivate India world ready for each other after G20: Jaishankar UPI payments via voice commands: New UPI features G20 leaders endorse FSB recommendations on crypto All Headlines » Live TV Day 2 of G-20 Summit For risk takers: 5 smallcaps with right mix of ROE and ROCE can rise up to 30% Philanthropist, marathon runner in race to fill in Uday Kotak’s shoes Ethanol blended fuel has a burning problem — alcohol-loving beetles. India G20 Summit G20 for urgently, effectively addressing debt vulnerabilities in developing countries G20 summit adopts New Delhi Declaration; admits African Union as permanent member Read More » TOP NEWS LATEST NEWS US, Vietnam to boost ties as Biden visits The G20 Delhi Declaration fine print R C Bhargava raps Indian industry Biden leaves for Vietnam after India visit G20: PM Modi, leaders pay homage at Raj Ghat Morocco quake leaves at least 2,000 dead G20 Summit Day 2 begins: Full schedule\",\n",
    "    \"Latest News Today: Latest Business News India, Latest News Headlines News LATEST LATEST Updated : Sep 10, 2023 India vs Pakistan cricket match moves to reserve day due to rain; to resume with India at 147/2 in 24.1 overs India-Pakistan match in Asia Cup to be completed on reserve day due to rain Updated : Sep 10, 2023 Shah Rukh Khan extends congratulations to PM Modi on India's G20 triumph Shah Rukh Khan, in a social media post on X (formerly Twitter), conveyed his conviction that India would thrive in a spirit of unity rather than isolation under the leadership of Prime Minister Modi Updated : Sep 10, 2023 G20 summit: 'Discussed Khalistan extremism in Canada,' says Justin Trudeau on meeting with PM Modi Trudeau reiterated Canada's stance on protecting freedom of expression, freedom of conscience, and freedom of peaceful protest, emphasising their significance Updated : Sep 10, 2023 Corruption case: TDP chief Chandrababu Naidu sent to 14-day judicial custody Naidu was arrested in a pre-dawn operation on Saturday at Nandyal for his alleged role in a multi-crore Skill Development Corporation scam Updated : Sep 10, 2023 Russia hails India for not ‘Ukrainising’ G20 summit; calls it a global ‘breakthrough’ Expressing his gratitude to India for preventing attempts to politicise the G20, Lavrov emphasised that the West's hegemony was under threat as new centres of power emerged worldwide. Updated : Sep 10, 2023 Asia Cup 2023, India vs Pakistan: 'Rohit, Shubman owned Pak bowlers,' hail Indian cricket fans Asia Cup 2023, India vs Pakistan: Virat Kohli and K L Rahul were batting on 8 and 17 respectively after openers Rohit Sharma (56) and Shubman Gill (58) struck fine half-centuries before rain halted the marquee clash Updated : Sep 10, 2023 DCGI asks states to keep vigil on sale of falsified versions of 2 critical drugs following WHO alerts Additionally, the DCGI has requested state and regional regulatory offices to instruct their officers to maintain strict vigilance over the movement, sale, distribution, and stock of the mentioned drug products in the market. Updated : Sep 10, 2023 'Desh ki bhalaai ke liye sab spoilers maaf': SRK 's take on viral voting sequence in 'Jawan' On September 9, SRK answered the fans on X (formerly known as Twitter) and one of his comments showed his opinion on the voting scene. Updated : Sep 10, 2023 Italy signals intent to exit China’s Belt and Road initiative: Report Italy's decision to exit the investment pact signifies a significant policy shift and underscores the delicate balance the nation must maintain between its international relationships, especially with the United States and China. Updated : Sep 10, 2023 BJP, Pawan Kalyan’s Jana Sena Party slam Chandrababu Naidu’s arrest in Rs 371 crore graft case Chandrababu Naidu was arrested on Saturday morning at around 6 am in the Andhra Pradesh Skill Development Corporation case. Updated : Sep 10, 2023 Adani increases stake in Adani Enterprises and Adani Ports and Special Economic Zone Ltd The company has increased its stake in flagship Adani Enterprises from 69.87 per cent to 71.93 per cent.\"\n",
    "]\n"
   ]
  },
  {
   "cell_type": "code",
   "execution_count": 7,
   "id": "57da28b0-6a57-4ea8-8aa5-79e0e4813813",
   "metadata": {},
   "outputs": [
    {
     "data": {
      "text/plain": [
       "5"
      ]
     },
     "execution_count": 7,
     "metadata": {},
     "output_type": "execute_result"
    }
   ],
   "source": [
    "len(news_articles)"
   ]
  },
  {
   "cell_type": "code",
   "execution_count": null,
   "id": "9283626b-be00-425c-aae2-d1692eb90094",
   "metadata": {},
   "outputs": [],
   "source": []
  }
 ],
 "metadata": {
  "kernelspec": {
   "display_name": "Python 3 (ipykernel)",
   "language": "python",
   "name": "python3"
  },
  "language_info": {
   "codemirror_mode": {
    "name": "ipython",
    "version": 3
   },
   "file_extension": ".py",
   "mimetype": "text/x-python",
   "name": "python",
   "nbconvert_exporter": "python",
   "pygments_lexer": "ipython3",
   "version": "3.10.12"
  }
 },
 "nbformat": 4,
 "nbformat_minor": 5
}
